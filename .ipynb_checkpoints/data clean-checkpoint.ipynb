{
 "cells": [
  {
   "attachments": {},
   "cell_type": "markdown",
   "metadata": {},
   "source": [
    "## CEO Shareholder Letter Data \n",
    "\n",
    "CEO shareholder letter data consists of three data sets collected by Jacqueline Araya: \n",
    "\n",
    "| File Name       |File Type | Data|\n",
    "| :------------- |:-------------| :-----|\n",
    "| regfoci     | .csv| a matrix provides total word/promotion/prevention foci word counts and ratio in each letter by company by year|\n",
    "| prevention_frequency | .csv| a matrix contains frequency counts of the prevention focus words in the letters by company by year|\n",
    "| promotion_frequency | .csv| a matrix contains frequency counts of the promotion focus words in the letters by company by year|\n",
    "| total_wordcount | .csv| a data frame contains total counts of the letters by company by year |"
   ]
  },
  {
   "cell_type": "code",
   "execution_count": 24,
   "metadata": {},
   "outputs": [
    {
     "name": "stdout",
     "output_type": "stream",
     "text": [
      "Current working directory E:\\Evan\\TDI-Capstone-VLee\n",
      "Directory changed successfully E:\\Evan\\TDI-Capstone-VLee\n"
     ]
    }
   ],
   "source": [
    "import os \n",
    "\n",
    "# Read data from 4 CEO shareholder Letter data files, respectively  \n",
    "\n",
    "dpath = \"E:\\\\Evan\\\\CEO_letter\" # data files saved path\n",
    "opath = \"E:\\\\Evan\\\\TDI-Capstone-VLee\" # original path\n",
    "\n",
    "# Check current working directory.\n",
    "retval = os.getcwd()\n",
    "\n",
    "print(\"Current working directory %s\" % retval)\n",
    "\n",
    "# Now change the directory\n",
    "os.chdir(dpath)\n",
    "\n",
    "# Change if you would like to pull data from different file path: \"dpath\"\n",
    "os.chdir(opath) \n",
    "\n",
    "# Check current working directory.\n",
    "retval = os.getcwd()\n",
    "\n",
    "print(\"Directory changed successfully %s\" % retval)\n"
   ]
  },
  {
   "cell_type": "code",
   "execution_count": 25,
   "metadata": {},
   "outputs": [],
   "source": [
    "# Load CEO Shareholder's letter data \n",
    "# Data's directory path needs to be specified. \n",
    "\n",
    "import pandas as pd \n",
    "\n",
    "regfoci = pd.read_csv(\"../CEO_letter/regfoci.csv\")\n",
    "prom_freq = pd.read_csv(\"../CEO_letter/prevention_frequency.csv\")\n",
    "prev_freq = pd.read_csv(\"../CEO_letter/promotion_frequency.csv\")\n",
    "totwc = pd.read_csv(\"../CEO_letter/total_wordcount.csv\")"
   ]
  },
  {
   "cell_type": "code",
   "execution_count": null,
   "metadata": {
    "collapsed": true
   },
   "outputs": [],
   "source": []
  }
 ],
 "metadata": {
  "kernelspec": {
   "display_name": "Python [conda env:Anaconda3]",
   "language": "python",
   "name": "conda-env-Anaconda3-py"
  },
  "language_info": {
   "codemirror_mode": {
    "name": "ipython",
    "version": 3
   },
   "file_extension": ".py",
   "mimetype": "text/x-python",
   "name": "python",
   "nbconvert_exporter": "python",
   "pygments_lexer": "ipython3",
   "version": "3.6.6"
  }
 },
 "nbformat": 4,
 "nbformat_minor": 2
}
